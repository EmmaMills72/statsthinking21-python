{
 "cells": [
  {
   "cell_type": "markdown",
   "metadata": {},
   "source": [
    "# The General Linear Model in R\n",
    "In this chapter we will explore how to fit general linear models in Python.  We will focus on the tools provided by the `statsmodels` package."
   ]
  },
  {
   "cell_type": "code",
   "execution_count": null,
   "metadata": {
    "lines_to_next_cell": 2
   },
   "outputs": [],
   "source": [
    "from nhanes.load import load_NHANES_data\n",
    "nhanes_data = load_NHANES_data()\n",
    "adult_nhanes_data = nhanes_data.query('AgeInYearsAtScreening > 17')"
   ]
  },
  {
   "cell_type": "markdown",
   "metadata": {},
   "source": [
    "## Linear regression\n",
    "To perform linear regression in Python, we use the `OLS()` function (which stands for *ordinary least squares*) from the `statsmodels` package.  Let's generate some simulated data and use this function to compute the linear regression solution."
   ]
  },
  {
   "cell_type": "code",
   "execution_count": null,
   "metadata": {
    "lines_to_next_cell": 2
   },
   "outputs": [],
   "source": [
    "\n",
    "import numpy as np\n",
    "import pandas as pd\n",
    "import matplotlib.pyplot as plt\n",
    "\n",
    "def generate_linear_data(slope, intercept,\n",
    "                         noise_sd=1, x = None, \n",
    "                         npoints=100, seed=None):\n",
    "    \"\"\"\n",
    "    generate data with a given slope and intercept\n",
    "    and add normally distributed noise\n",
    "\n",
    "    if x is passed as an argument then a given x will be used,\n",
    "    otherwise it will be generated randomly\n",
    "\n",
    "    Returns:\n",
    "    --------\n",
    "    a pandas data frame with variables x and y\n",
    "    \"\"\"\n",
    "    if seed is not None:\n",
    "        np.random.seed(seed)\n",
    "    if x is None:\n",
    "        x = np.random.randn(npoints)\n",
    "    \n",
    "    y = x * slope + intercept + np.random.randn(x.shape[0]) * noise_sd\n",
    "    return(pd.DataFrame({'x': x, 'y': y}))\n",
    "\n",
    "slope = 1\n",
    "intercept = 10\n",
    "noise_sd = 1\n",
    "simulated_data = generate_linear_data(slope, intercept, noise_sd, seed=1)\n",
    "\n",
    "plt.scatter(simulated_data['x'], simulated_data['y'])"
   ]
  },
  {
   "cell_type": "markdown",
   "metadata": {},
   "source": [
    "We can then perform linear regression on these data using the `ols` function.  This function doesn't automatically include an intercept in its model, so we need to add one to the design.  Fitting the model using this function is a two-step process.  First, we set up the model and store it to a variable (which we will call `ols_model`).  Then, we actually fit the model, which generates the results that we store to a different variable called `ols_results`, and view a summary using the `.summary()` method of the results variable.\n",
    "\n",
    "from statsmodels.formula.api import ols\n",
    "\n",
    "ols_model = ols(formula='y ~ x + 1', data=simulated_data)\n",
    "ols_result = ols_model.fit()\n",
    "ols_result.summary()"
   ]
  },
  {
   "cell_type": "markdown",
   "metadata": {},
   "source": [
    " We should see three things in these results:\n",
    "\n",
    "* The estimate of the Intercept in the model should be very close to the intercept that we specified\n",
    "* The estimate for the x parameter should be very close to the slope that we specified\n",
    "* The residual standard deviation should be roughly similar to the noise standard deviation that we specified.  The summary doesn't report the residual standard deviation directly but we can compute it using the residuals that are stored in the `.resid` element in the result output:"
   ]
  },
  {
   "cell_type": "code",
   "execution_count": null,
   "metadata": {
    "lines_to_next_cell": 2
   },
   "outputs": [],
   "source": [
    "ols_result.resid.std()"
   ]
  },
  {
   "cell_type": "markdown",
   "metadata": {},
   "source": [
    "## Model criticism and diagnostics\n",
    "Once we have fitted the model, we want to look at some diagnostics to determine whether the model is actually fitting properly.  \n",
    "The first thing to examine is to make sure that the residuals are (at least roughly) normally distributed.  We can do this using a Q-Q plot:"
   ]
  },
  {
   "cell_type": "code",
   "execution_count": null,
   "metadata": {},
   "outputs": [],
   "source": [
    "import seaborn as sns\n",
    "import scipy.stats\n",
    "\n",
    "scipy.stats.probplot(ols_result.resid, plot=sns.mpl.pyplot)"
   ]
  },
  {
   "cell_type": "markdown",
   "metadata": {},
   "source": [
    "This looks pretty good, in the sense that the residual data points fall very close to the unit line.  This is not surprising, since we generated the data with normally distributed noise.  We should also plot the predicted (or *fitted*) values against the residuals, to make sure that the model does work systematically better for some predicted values versus others."
   ]
  },
  {
   "cell_type": "code",
   "execution_count": null,
   "metadata": {},
   "outputs": [],
   "source": [
    "\n",
    "plt.scatter(ols_result.fittedvalues, ols_result.resid)\n",
    "plt.xlabel('Fitted value')\n",
    "plt.ylabel('Residual')"
   ]
  },
  {
   "cell_type": "markdown",
   "metadata": {},
   "source": [
    "As expected, we see no clear relationship.\n",
    "\n",
    "## Examples of problematic model fit\n",
    "Let's say that there was another variable at play in this dataset, which we were not aware of. This variable causes some of the cases to have much larger values than others, in a way that is unrelated to the X variable.  We play a trick here using the `seq()` function to create a sequence from zero to one, and then threshold those 0.5 (in order to obtain half of the values as zero and the other half as one) and then multiply by the desired effect size:"
   ]
  },
  {
   "cell_type": "code",
   "execution_count": null,
   "metadata": {},
   "outputs": [],
   "source": [
    "simulated_data.loc[:, 'x2'] = (simulated_data.index < (simulated_data.shape[0]/2)).astype('int')\n",
    "hidden_effect_size = 10\n",
    "simulated_data.loc[:, 'y2'] = simulated_data['y'] + simulated_data['x2'] * hidden_effect_size"
   ]
  },
  {
   "cell_type": "markdown",
   "metadata": {},
   "source": [
    "Now we fit the model again, and examine the residuals:\n",
    "\n",
    "ols_model2 = ols(formula='y2 ~ x + 1', data=simulated_data)\n",
    "ols_result2 = ols_model.fit()\n",
    "\n",
    "plt.figure(figsize=(12,6))\n",
    "plt.subplot(1, 2, 1)\n",
    "scipy.stats.probplot(ols_result2.resid, plot=sns.mpl.pyplot)\n",
    "\n",
    "plt.subplot(1, 2, 2)\n",
    "plt.scatter(ols_result2.fittedvalues, ols_result2.resid)\n",
    "plt.xlabel('Fitted value')\n",
    "plt.ylabel('Residual')"
   ]
  },
  {
   "cell_type": "markdown",
   "metadata": {},
   "source": [
    "The lack of normality is clear from the Q-Q plot, and we can also see that there is obvious structure in the residuals.  \n",
    "\n",
    "Let's look at another potential problem, in which the y variable is nonlinearly related to the X variable.  We can create these data by squaring the X variable when we generate the Y variable:"
   ]
  },
  {
   "cell_type": "code",
   "execution_count": null,
   "metadata": {},
   "outputs": [],
   "source": [
    "\n",
    "# ```{r}\n",
    "# effsize=2\n",
    "# regression_data <- regression_data %>%\n",
    "#   mutate(y3 = (x**2)*slope + rnorm(npoints)*noise_sd + intercept)\n",
    "\n",
    "# lm_result3 <- lm(y3 ~ x, data=regression_data)\n",
    "# summary(lm_result3)\n",
    "\n",
    "# ```\n",
    "\n",
    "# Now we see that there is no significant linear relationship between $X^2$ and Y/ But if we look at the residuals the problem with the model becomes clear:\n",
    "\n",
    "# ```{r fig.width=8, fig.height=4, out.width=\"80%\"}\n",
    "# autoplot(lm_result3,which=1:2)\n",
    "\n",
    "# ```\n",
    "\n",
    "# In this case we can see the clearly nonlinear relationship between the predicted and residual values, as well as the clear lack of normality in the residuals.  \n",
    "\n",
    "# As we noted in the previous chapter, the \"linear\" in the general linear model doesn't refer to the shape of the response, but instead refers to the fact that model is linear in its parameters --- that is, the predictors in the model only get multiplied the parameters (e.g., rather than being raised to a power of the parameter).  Here is how we would build a model that could account for the nonlinear relationship:\n",
    "\n",
    "# ```{r}\n",
    "# # create x^2 variable\n",
    "# regression_data <- regression_data %>%\n",
    "#   mutate(x_squared = x**2)\n",
    "\n",
    "# lm_result4 <- lm(y3 ~ x + x_squared, data=regression_data)\n",
    "# summary(lm_result4)\n",
    "\n",
    "# ```\n",
    "\n",
    "# Now we see that the effect of $X^2$ is significant, and if we look at the residual plot we should see that things look much better:\n",
    "\n",
    "# ```{r fig.width=8, fig.height=4, out.width=\"80%\"}\n",
    "# autoplot(lm_result4,which=1:2)\n",
    "\n",
    "# ```\n",
    "# Not perfect, but much better than before!\n",
    "\n",
    "# ## Extending regression to binary outcomes.\n",
    "\n",
    "# Let's say that we have a blood test (which is often referred to as a *biomarker*) and we want to know whether it predicts who is going to have a heart attack within the next year.  We will generate a synthetic dataset for a population that is at very high risk for a heart attack in the next year.\n",
    "\n",
    "# ```{r}\n",
    "# # sample size\n",
    "# npatients=1000\n",
    "\n",
    "# # probability of heart attack\n",
    "# p_heartattack = 0.5\n",
    "\n",
    "# # true relation to biomarker\n",
    "# true_effect <- 0.6\n",
    "\n",
    "# # assume biomarker is normally distributed\n",
    "# disease_df <- tibble(biomarker=rnorm(npatients))\n",
    "\n",
    "# # generate another variable that reflects risk for \n",
    "# # heart attack, which is related to the biomarker\n",
    "# disease_df <- disease_df %>%\n",
    "#   mutate(risk = biomarker*true_effect + rnorm(npatients))\n",
    "\n",
    "# # create another variable that shows who has a \n",
    "# # heart attack, based on the risk variable\n",
    "# disease_df <- disease_df %>%\n",
    "#   mutate(\n",
    "#     heartattack = risk > quantile(disease_df$risk,\n",
    "#                                        1-p_heartattack))\n",
    "\n",
    "# glimpse(disease_df)\n",
    "# ```\n",
    "\n",
    "# Now we would like to build a model that allows us to predict who will have a heart attack from these data. However, you may have noticed that the heartattack variable is a binary variable; because linear regression assumes that the residuals from the model will be normally distributed, and the binary nature of the data will violate this, we instead need to use a different kind of model, known as a *logistic regression* model, which is built to deal with binary outcomes.  We can fit this model using the `glm()` function:\n",
    "\n",
    "# ```{r}\n",
    "# glm_result <- glm(heartattack ~ biomarker, data=disease_df,\n",
    "#                   family=binomial())\n",
    "# summary(glm_result)\n",
    "# ```\n",
    "\n",
    "# This looks very similar to the output from the `lm()` function, and it shows us that there is a significant relationship between the biomarker and heart attacks. The model provides us with a predicted probability that each individual will have a heart attack; if this is greater than 0.5, then that means that the model predicts that the individual is more likely than not to have a heart attack.  \n",
    "# We can start by simply comparing those predictions to the actual outcomes. \n",
    "\n",
    "# ```{r}\n",
    "# # add predictions to data frame\n",
    "# disease_df <- disease_df %>%\n",
    "#   mutate(prediction = glm_result$fitted.values>0.5,\n",
    "#          heartattack = heartattack)\n",
    "\n",
    "# # create table comparing predicted to actual outcomes\n",
    "# CrossTable(disease_df$prediction,\n",
    "#            disease_df$heartattack,\n",
    "#            prop.t=FALSE,\n",
    "#            prop.r=FALSE,\n",
    "#            prop.chisq=FALSE)\n",
    "\n",
    "# ```\n",
    "\n",
    "# This shows us that of the 500 people who had heart attacks, the model corrected predicted a heart attack for 343 of them.  It also predicted heart attacks for 168 people who didn't have them, and it failed to predict a heart attack for 157 people who had them. This highlights the distinction that we mentioned before between statistical and practical significance; even though the biomarker shows a highly significant relationship to heart attacks, it's ability to predict them is still relatively poor.  As we will see below, it gets even worse when we try to generalize this to a new group of people.\n",
    "\n",
    "# ## Cross-validation (Section \\@ref(cross-validation))\n",
    "\n",
    "# Cross-validation is a powerful technique that allows us to estimate how well our results will generalize to a new dataset. Here we will build our own crossvalidation code to see how it works, continuing the logistic regression example from the previous section.\n",
    "\n",
    "# In cross-validation, we want to split the data into several subsets and then iteratively train the model while leaving out each subset (which we usually call *folds*) and then test the model on that held-out fold  Let's write our own code to do this splitting; one relatively easy way to this is to create a vector that contains the fold numbers, and then randomly shuffle it to create the fold assigments for each data point.  \n",
    "\n",
    "# ```{r}\n",
    "# nfolds <- 4 # number of folds\n",
    "\n",
    "# # we use the kronecker() function to repeat the folds\n",
    "# fold <-  kronecker(seq(nfolds),rep(1,npatients/nfolds))\n",
    "# # randomly shuffle using the sample() function\n",
    "# fold <- sample(fold)\n",
    "\n",
    "# # add variable to store CV predictions\n",
    "# disease_df <- disease_df %>%\n",
    "#   mutate(CVpred=NA)\n",
    "\n",
    "# # now loop through folds and separate training and test data\n",
    "# for (f in seq(nfolds)){\n",
    "#   # get training and test data\n",
    "#   train_df <- disease_df[fold!=f,]\n",
    "#   test_df <- disease_df[fold==f,]\n",
    "#   # fit model to training data\n",
    "#   glm_result_cv <- glm(heartattack ~ biomarker, data=train_df,\n",
    "#                   family=binomial())\n",
    "#   # get probability of heart attack on test data\n",
    "#   pred <- predict(glm_result_cv,newdata = test_df)\n",
    "#   # convert to prediction and put into data frame\n",
    "#   disease_df$CVpred[fold==f] = (pred>0.5)\n",
    "\n",
    "# }\n",
    "# ```\n",
    "\n",
    "# Now let's look at the performance of the model:\n",
    "\n",
    "# ```{r}\n",
    "# # create table comparing predicted to actual outcomes\n",
    "# CrossTable(disease_df$CVpred,\n",
    "#            disease_df$heartattack,\n",
    "#            prop.t=FALSE,\n",
    "#            prop.r=FALSE,\n",
    "#            prop.chisq=FALSE)\n",
    "\n",
    "# ```\n",
    "\n",
    "# Now we see that the model only accurately predicts less than half of the heart attacks that occurred when it is predicting to a new sample.  This tells us that this is the level of prediction that we could expect if were to apply the model to a new sample of patients from the same population.\n",
    "\n",
    "\n",
    "\n"
   ]
  },
  {
   "cell_type": "code",
   "execution_count": null,
   "metadata": {},
   "outputs": [],
   "source": []
  }
 ],
 "metadata": {
  "jupytext": {
   "formats": "ipynb,py:percent"
  },
  "kernelspec": {
   "display_name": "Python 3",
   "language": "python",
   "name": "python3"
  }
 },
 "nbformat": 4,
 "nbformat_minor": 4
}
