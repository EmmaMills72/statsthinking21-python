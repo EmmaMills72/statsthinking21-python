{
 "cells": [
  {
   "cell_type": "markdown",
   "metadata": {},
   "source": [
    "# Resampling and simulation in R\n",
    "\n",
    "## Generating random samples\n",
    "Here we will generate random samples from a number of different distributions and plot their histograms.  We could write out separate commands to plot each of our functions of interest, but that would involve repeating a lot of code, so instead we will take advantage of the fact that Python allows us to treat modules as variables.  We will specify the module that creates each distribution, and then loop through them, each time incrementing the panel number.  Some distributions also take specific parameters; for example, the Chi-squared distribution requires specifying the degrees of freedom.  We will store those in a separate dictionary and use them as needed."
   ]
  },
  {
   "cell_type": "code",
   "execution_count": null,
   "metadata": {
    "lines_to_next_cell": 2
   },
   "outputs": [],
   "source": [
    "import scipy.stats\n",
    "import matplotlib.pyplot as plt\n",
    "\n",
    "num_samples = 10000\n",
    "\n",
    "plt.figure(figsize=(8, 8))\n",
    "\n",
    "generators = {'Uniform': scipy.stats.uniform,\n",
    "              'Normal': scipy.stats.norm, \n",
    "              'Exponential': scipy.stats.expon,\n",
    "              'Chi-squared': scipy.stats.chi2}\n",
    "\n",
    "generator_parameters = {'Chi-squared': 10}\n",
    "panel_num = 1\n",
    "for distribution in generators:\n",
    "    plt.subplot(2, 2, panel_num)\n",
    "    if distribution in generator_parameters:\n",
    "        sample = generators[distribution].rvs(\n",
    "            generator_parameters[distribution], size=num_samples)\n",
    "    else:\n",
    "        sample = generators[distribution].rvs(size=num_samples)\n",
    "    plt.hist(sample, bins=100)\n",
    "    plt.title(distribution)\n",
    "    plt.xlabel('Value')\n",
    "    plt.ylabel('Density')\n",
    "    # the following function prevents the labels from overlapping\n",
    "    plt.tight_layout()\n",
    "    panel_num += 1"
   ]
  },
  {
   "cell_type": "markdown",
   "metadata": {},
   "source": [
    "## Simulating the maximum finishing time\n",
    "Let's simulate 5000 samples of 150 observations, collecting the maximum value from each sample, and then plotting the distribution of maxima."
   ]
  },
  {
   "cell_type": "code",
   "execution_count": null,
   "metadata": {
    "lines_to_next_cell": 2
   },
   "outputs": [],
   "source": [
    "import numpy as np\n",
    "import pandas as pd\n",
    "\n",
    "num_runs = 5000\n",
    "sample_size = 150\n",
    "\n",
    "\n",
    "def sample_and_return_max(sample_size, \n",
    "                          distribution=None):\n",
    "    \"\"\"\n",
    "    function to sample from a distribution and return maximum\n",
    "    \"\"\"\n",
    "\n",
    "    # if distribution is not specified, then use the normal\n",
    "    if distribution is None:\n",
    "        distribution = scipy.stats.norm\n",
    "    \n",
    "    sample = distribution.rvs(size=sample_size)\n",
    "    return(np.max(sample))\n",
    "\n",
    "\n",
    "sample_max_df = pd.DataFrame({'max': np.zeros(num_runs)})\n",
    "\n",
    "for i in range(num_runs):\n",
    "    sample_max_df.loc[i, 'max'] = sample_and_return_max(sample_size)"
   ]
  },
  {
   "cell_type": "markdown",
   "metadata": {
    "lines_to_next_cell": 2
   },
   "source": [
    "Now let's find the 99th percentile of the maximum distriibution.  There is a built-in function in the `scipy.stats` module, called `scoreatpercentile` that will do this for us:\n",
    "\n",
    "cutoff = scipy.stats.scoreatpercentile(sample_max_df['max'], 95)"
   ]
  },
  {
   "cell_type": "markdown",
   "metadata": {},
   "source": [
    "Plot the histogram of the maximum values, along with a vertical line at the 95th percentile."
   ]
  },
  {
   "cell_type": "code",
   "execution_count": null,
   "metadata": {
    "lines_to_next_cell": 2
   },
   "outputs": [],
   "source": [
    "hist = plt.hist(sample_max_df['max'], bins=100)\n",
    "plt.ylabel('Count')\n",
    "plt.xlabel('Maximum value')\n",
    "_ = plt.axvline(x=cutoff, ymax=np.max(hist[0]), color='k')"
   ]
  },
  {
   "cell_type": "markdown",
   "metadata": {},
   "source": [
    "## The bootstrap\n",
    "The bootstrap is useful for creating confidence intervals in cases where we don't have a parametric distribution. One example is for the median; let's look at how that works. We will start by implementing it by hand, to see more closely how it works.  We will start by collecting a sample of individuals from the NHANES dataset, and the using the bootstrap to obtain confidence intervals on the median for the Height variable."
   ]
  },
  {
   "cell_type": "code",
   "execution_count": null,
   "metadata": {},
   "outputs": [],
   "source": [
    "#+\n",
    "from nhanes.load import load_NHANES_data\n",
    "nhanes_data = load_NHANES_data()\n",
    "adult_nhanes_data = nhanes_data.query('AgeInYearsAtScreening > 17')\n",
    "adult_nhanes_data = adult_nhanes_data.dropna(subset=['StandingHeightCm']).rename(columns={'StandingHeightCm': 'Height'})\n",
    "\n",
    "num_runs = 5000\n",
    "sample_size = 100\n",
    "\n",
    "# Take a sample for which we will perform the bootstrap\n",
    "\n",
    "nhanes_sample = adult_nhanes_data.sample(sample_size)\n",
    "\n",
    "# Perform the resampling\n",
    "\n",
    "bootstrap_df = pd.DataFrame({'mean': np.zeros(num_runs)})\n",
    "for sampling_run in range(num_runs):\n",
    "    bootstrap_sample = nhanes_sample.sample(sample_size, replace=True)\n",
    "    bootstrap_df.loc[sampling_run, 'mean'] = bootstrap_sample['Height'].mean()\n",
    "\n",
    "# Compute the 2.5% and 97.5% percentiles of the distribution\n",
    "\n",
    "\n",
    "bootstrap_ci = [scipy.stats.scoreatpercentile(bootstrap_df['mean'], 2.5),\n",
    "                scipy.stats.scoreatpercentile(bootstrap_df['mean'], 97.5)]\n",
    "\n",
    "#-"
   ]
  },
  {
   "cell_type": "markdown",
   "metadata": {},
   "source": [
    "Let's compare the bootstrap distribution to the sampling distribution that we would expect given the sample mean and standard deviation:\n",
    "\n",
    "hist = plt.hist(bootstrap_df['mean'], 100, density=True)\n",
    "\n",
    "hist_bin_min = np.min(hist[1])\n",
    "hist_bin_max = np.max(hist[1])\n",
    "step_size = 0.01\n",
    "x_values = np.arange(hist_bin_min, hist_bin_max, step_size)\n",
    "normal_values = scipy.stats.norm.pdf(\n",
    "    x_values,\n",
    "    loc=nhanes_sample['Height'].mean(),\n",
    "    scale=nhanes_sample['Height'].std()/np.sqrt(sample_size))\n",
    "plt.plot(x_values, normal_values, color='r')\n",
    "\n"
   ]
  },
  {
   "cell_type": "markdown",
   "metadata": {},
   "source": [
    "This shows that the bootstrap sampling distrbution does a good job of recapitulating the theoretical sampling distribution in this case."
   ]
  }
 ],
 "metadata": {
  "jupytext": {
   "formats": "ipynb,py:percent"
  },
  "kernelspec": {
   "display_name": "Python 3",
   "language": "python",
   "name": "python3"
  }
 },
 "nbformat": 4,
 "nbformat_minor": 4
}
