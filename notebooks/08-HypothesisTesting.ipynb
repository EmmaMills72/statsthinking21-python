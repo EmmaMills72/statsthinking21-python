{
  "cells": [
    {
      "cell_type": "markdown",
      "metadata": {
        "id": "yQHZoAndW5zs"
      },
      "source": [
        "# Hypothesis testing in Python\n",
        "In this chapter we will present several examples of using Python to perform hypothesis testing.\n",
        "\n",
        "## Simple example: Coin-flipping\n",
        "Let's say that we flipped 100 coins and observed 70 heads. We would like to use these data to test the hypothesis that the true probability is 0.5.\n",
        "First let's generate our data, simulating 200,000 sets of 100 flips. We use such a large number because it turns out that it's very rare to get 70 heads, so we need many attempts in order to get a reliable estimate of these probabilties.  This will take a couple of minutes to complete."
      ]
    },
    {
      "cell_type": "code",
      "execution_count": null,
      "metadata": {
        "lines_to_next_cell": 2,
        "id": "zGgG23i1W5zu"
      },
      "outputs": [],
      "source": [
        "\n",
        "import numpy as np\n",
        "import pandas as pd\n",
        "\n",
        "num_runs = 200000\n",
        "\n",
        "\n",
        "def toss_coins_and_count_heads(num_coins=100, p_heads=0.5):\n",
        "    \"\"\"\n",
        "    flip a coin num_coins times and return number of heads\n",
        "    \"\"\"\n",
        "\n",
        "    flips = np.random.rand(num_coins) > (1 - p_heads)\n",
        "    return(np.sum(flips))\n",
        "\n",
        "\n",
        "flip_results_df = pd.DataFrame({'n_heads': np.zeros(num_runs)})\n",
        "\n",
        "for run in range(num_runs):\n",
        "    flip_results_df.loc[run, 'n_heads'] = toss_coins_and_count_heads()"
      ]
    },
    {
      "cell_type": "markdown",
      "metadata": {
        "id": "Yddd8XBaW5zv"
      },
      "source": [
        "Now we can compute the proportion of samples from the distribution observed that landed on head for at least 70 times, when the true probability of heads is 0.5.  "
      ]
    },
    {
      "cell_type": "code",
      "execution_count": null,
      "metadata": {
        "id": "iFKqf2rFW5zv"
      },
      "outputs": [],
      "source": [
        "import scipy.stats\n",
        "\n",
        "pvalue = 100 - scipy.stats.percentileofscore(flip_results_df['n_heads'], 70)\n",
        "print(pvalue)"
      ]
    },
    {
      "cell_type": "markdown",
      "metadata": {
        "id": "5bEDSYZuW5zv"
      },
      "source": [
        "For comparison, we can also compute the p-value for 70 or more heads based on a null hypothesis of $P_{heads}=0.5$, using the binomial distribution.\n",
        "\n",
        "\n",
        "compute the probability of 69 or fewer heads, when P(heads)=0.5"
      ]
    },
    {
      "cell_type": "code",
      "execution_count": null,
      "metadata": {
        "id": "F_QCV9l7W5zv"
      },
      "outputs": [],
      "source": [
        "\n",
        "p_lt_70 = scipy.stats.binom.cdf(k=69, n=100, p=0.5)\n",
        "p_lt_70"
      ]
    },
    {
      "cell_type": "markdown",
      "metadata": {
        "lines_to_next_cell": 0,
        "id": "hQeCiqjHW5zv"
      },
      "source": [
        "the probability of 70 or more heads is simply the complement of p_lt_70"
      ]
    },
    {
      "cell_type": "code",
      "execution_count": null,
      "metadata": {
        "lines_to_next_cell": 0,
        "id": "xgO_h8PNW5zv"
      },
      "outputs": [],
      "source": [
        "\n",
        "p_ge_70 = 1 - p_lt_70\n",
        "p_ge_70\n",
        "#"
      ]
    },
    {
      "cell_type": "markdown",
      "source": [
        "## Performing t-test with Python\n",
        "Let's draw a sample of 250 participants from the \"population\" who participated the NHANES study\n"
      ],
      "metadata": {
        "id": "Jb361YaoZQG4"
      }
    },
    {
      "cell_type": "code",
      "source": [
        "! pip install nhanes\n",
        "from nhanes.load import load_NHANES_data\n",
        "nhanes_data = load_NHANES_data()\n",
        "\n"
      ],
      "metadata": {
        "id": "oYoivOQeZ2nt"
      },
      "execution_count": null,
      "outputs": []
    },
    {
      "cell_type": "code",
      "source": [
        "import numpy as np\n",
        "import seaborn as sns\n",
        "sample_size = 250\n",
        "nhanes_data['PhysActive'] = np.logical_or(nhanes_data['VigorousRecreationalActivities'], nhanes_data['ModerateRecreationalActivities'])\n",
        "print('Unique values in PhysActive:',nhanes_data['PhysActive'].unique())\n",
        "\n",
        "sample = nhanes_data.dropna(subset=['PhysActive', 'BodyMassIndexKgm2']).sample(sample_size)\n",
        "sns.boxplot(data=sample, x=\"PhysActive\", y=\"BodyMassIndexKgm2\")"
      ],
      "metadata": {
        "id": "BjiYATqLc_lA"
      },
      "execution_count": null,
      "outputs": []
    },
    {
      "cell_type": "code",
      "source": [
        "from scipy.stats import ttest_ind\n",
        "# By default, ttest_ind assumes equal variance of the two samples\n",
        "print('assuming equal variance of the two population:')\n",
        "t, p = ttest_ind(sample.query('PhysActive==1.0')['BodyMassIndexKgm2'], sample.query('PhysActive==0.0')['BodyMassIndexKgm2'])\n",
        "print('t-statistic:', t)\n",
        "print('p-value:', p)\n",
        "\n",
        "# If we don't make the assumption, the result may be slightly different:\n",
        "print('without assuming equal variance of the two populations:')\n",
        "t, p = ttest_ind(sample.query('PhysActive==1.0')['BodyMassIndexKgm2'], sample.query('PhysActive==0.0')['BodyMassIndexKgm2'], equal_var=False)\n",
        "print('t-statistic:', t)\n",
        "print('p-value:', p)\n"
      ],
      "metadata": {
        "id": "gSmTuPZmlqsn"
      },
      "execution_count": null,
      "outputs": []
    },
    {
      "cell_type": "markdown",
      "metadata": {
        "lines_to_next_cell": 0,
        "id": "dhBkcLs9W5zw"
      },
      "source": [
        "## Simulating p-values\n",
        "\n",
        "In this exercise we will perform hypothesis testing many times in order to test whether the p-values provided by our statistical test are valid.  We will sample data from a normal distribution with a mean of zero, and for each sample perform a t-test to determine whether the mean is different from zero.  We will then count how often we reject the null hypothesis; since we know that the true mean is zero, these are by definition Type I errors.\n"
      ]
    },
    {
      "cell_type": "code",
      "execution_count": null,
      "metadata": {
        "id": "cUMidxAmW5zw"
      },
      "outputs": [],
      "source": [
        "\n",
        "num_runs = 5000\n",
        "\n",
        "\n",
        "# create a function that will take a sample\n",
        "# and perform a one-sample t-test\n",
        "def sample_ttest(sampSize=32):\n",
        "    \"\"\"\n",
        "    perform a ttest on random data of n=sampSize\n",
        "    \"\"\"\n",
        "\n",
        "    ttresult = scipy.stats.ttest_1samp(np.random.normal(loc=0.0, scale=1.0, size=sampSize), 0)\n",
        "    return(ttresult.pvalue)\n",
        "\n",
        "\n",
        "# create input data frame for the function\n",
        "sim_results_df = pd.DataFrame({'p_value': np.zeros(num_runs)})\n",
        "\n",
        "# perform simulations\n",
        "for run in range(num_runs):\n",
        "    sim_results_df.loc[run, 'p_value'] = sample_ttest()\n",
        "\n",
        "p_error = sim_results_df['p_value'] < 0.05\n",
        "p_error = p_error.mean(axis=0)\n",
        "p_error"
      ]
    },
    {
      "cell_type": "markdown",
      "metadata": {
        "id": "V6u-l5WJW5zw"
      },
      "source": [
        "We should see that the proportion of samples with p < .05 is about 5%."
      ]
    },
    {
      "cell_type": "code",
      "execution_count": null,
      "metadata": {
        "id": "AhY-KrHcW5zw"
      },
      "outputs": [],
      "source": []
    }
  ],
  "metadata": {
    "jupytext": {
      "formats": "ipynb,py:percent"
    },
    "kernelspec": {
      "display_name": "Python 3",
      "language": "python",
      "name": "python3"
    },
    "colab": {
      "provenance": []
    }
  },
  "nbformat": 4,
  "nbformat_minor": 0
}