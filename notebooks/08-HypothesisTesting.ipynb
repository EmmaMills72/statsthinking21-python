{
 "cells": [
  {
   "cell_type": "markdown",
   "metadata": {},
   "source": [
    "# Hypothesis testing in Python\n",
    "In this chapter we will present several examples of using Python to perform hypothesis testing.\n",
    "\n",
    "## Simple example: Coin-flipping\n",
    "Let's say that we flipped 100 coins and observed 70 heads. We would like to use these data to test the hypothesis that the true probability is 0.5.\n",
    "First let's generate our data, simulating 100,000 sets of 100 flips. We use such a large number because it turns out that it's very rare to get 70 heads, so we need many attempts in order to get a reliable estimate of these probabilties.  This will take a couple of minutes to complete."
   ]
  },
  {
   "cell_type": "code",
   "execution_count": null,
   "metadata": {
    "lines_to_next_cell": 2
   },
   "outputs": [],
   "source": [
    "\n",
    "import numpy as np\n",
    "import pandas as pd\n",
    "\n",
    "num_runs = 10000\n",
    "\n",
    "\n",
    "def toss_coins_and_count_heads(num_coins=100, p_heads=0.5):\n",
    "    \"\"\"\n",
    "    flip a coin num_coins times and return number of heads\n",
    "    \"\"\"\n",
    "\n",
    "    flips = np.random.rand(num_coins) > (1 - p_heads)\n",
    "    return(np.sum(flips))\n",
    "\n",
    "    \n",
    "flip_results_df = pd.DataFrame({'n_heads': np.zeros(num_runs)})\n",
    "\n",
    "for run in range(num_runs):\n",
    "    flip_results_df.loc[run, 'n_heads'] = toss_coins_and_count_heads()"
   ]
  },
  {
   "cell_type": "markdown",
   "metadata": {},
   "source": [
    "Now we can compute the proportion of samples from the distribution observed when the true proportion of heads is 0.5.  "
   ]
  },
  {
   "cell_type": "code",
   "execution_count": null,
   "metadata": {},
   "outputs": [],
   "source": [
    "import scipy.stats\n",
    "\n",
    "pvalue = 100 - scipy.stats.percentileofscore(flip_results_df, 0.7) \n",
    "pvalue"
   ]
  },
  {
   "cell_type": "markdown",
   "metadata": {},
   "source": [
    "For comparison, we can also compute the p-value for 70 or more heads based on a null hypothesis of $P_{heads}=0.5$, using the binomial distribution.\n",
    "\n",
    "\n",
    "compute the probability of 69 or fewer heads, when P(heads)=0.5"
   ]
  },
  {
   "cell_type": "code",
   "execution_count": null,
   "metadata": {},
   "outputs": [],
   "source": [
    "\n",
    "p_lt_70 = scipy.stats.binom.cdf(k=69, n=100, p=0.5)\n",
    "p_lt_70"
   ]
  },
  {
   "cell_type": "markdown",
   "metadata": {
    "lines_to_next_cell": 0
   },
   "source": [
    "the probability of 70 or more heads is simply the complement of p_lt_70"
   ]
  },
  {
   "cell_type": "code",
   "execution_count": null,
   "metadata": {
    "lines_to_next_cell": 0
   },
   "outputs": [],
   "source": [
    "\n",
    "p_ge_70 = 1 - p_lt_70\n",
    "p_ge_70\n",
    "#"
   ]
  },
  {
   "cell_type": "markdown",
   "metadata": {
    "lines_to_next_cell": 0
   },
   "source": [
    "## Simulating p-values\n",
    "\n",
    "In this exercise we will perform hypothesis testing many times in order to test whether the p-values provided by our statistical test are valid.  We will sample data from a normal distribution with a mean of zero, and for each sample perform a t-test to determine whether the mean is different from zero.  We will then count how often we reject the null hypothesis; since we know that the true mean is zero, these are by definition Type I errors.\n"
   ]
  },
  {
   "cell_type": "code",
   "execution_count": null,
   "metadata": {},
   "outputs": [],
   "source": [
    "\n",
    "num_runs = 5000\n",
    "\n",
    "\n",
    "# create a function that will take a sample\n",
    "# and perform a one-sample t-test\n",
    "def sample_ttest(sampSize=32):\n",
    "    \"\"\"\n",
    "    perform a ttest on random data of n=sampSize\n",
    "    \"\"\"\n",
    "\n",
    "    ttresult = scipy.stats.ttest_1samp(np.random.normal(loc=0.0, scale=1.0, size=sampSize), 0)\n",
    "    return(ttresult.pvalue)\n",
    "\n",
    "\n",
    "# create input data frame for the function\n",
    "sim_results_df = pd.DataFrame({'p_value': np.zeros(num_runs)})\n",
    "\n",
    "# perform simulations\n",
    "for run in range(num_runs):\n",
    "    sim_results_df.loc[run, 'p_value'] = sample_ttest()\n",
    "\n",
    "p_error = sim_results_df.loc[sim_results_df['p_value'] < 0.05].mean(axis=0)\n",
    "p_error"
   ]
  },
  {
   "cell_type": "markdown",
   "metadata": {},
   "source": [
    "We should see that the proportion of samples with p < .05 is about 5%."
   ]
  },
  {
   "cell_type": "code",
   "execution_count": null,
   "metadata": {},
   "outputs": [],
   "source": []
  }
 ],
 "metadata": {
  "jupytext": {
   "formats": "ipynb,py:percent"
  },
  "kernelspec": {
   "display_name": "Python 3",
   "language": "python",
   "name": "python3"
  }
 },
 "nbformat": 4,
 "nbformat_minor": 4
}
