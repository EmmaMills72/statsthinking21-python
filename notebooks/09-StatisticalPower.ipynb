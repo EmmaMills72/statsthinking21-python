{
 "cells": [
  {
   "cell_type": "markdown",
   "metadata": {
    "lines_to_next_cell": 0
   },
   "source": [
    "\n"
   ]
  },
  {
   "cell_type": "code",
   "execution_count": null,
   "metadata": {
    "lines_to_next_cell": 2
   },
   "outputs": [],
   "source": [
    "\n",
    "import numpy as np\n",
    "import pandas as pd\n",
    "\n",
    "\n",
    "np.random.seed(12345) \n",
    "\n",
    "from nhanes.load import load_NHANES_data\n",
    "\n",
    "nhanes_data = load_NHANES_data() \n",
    "adult_nhanes_data = nhanes_data.query('AgeInYearsAtScreening > 18')\n",
    "adult_nhanes_data = adult_nhanes_data.dropna(subset=['WeightKg']).rename(columns={'WeightKg': 'Weight'})"
   ]
  },
  {
   "cell_type": "markdown",
   "metadata": {},
   "source": [
    "In this chapter we focus specifically on statistical power.\n",
    "\n",
    "# Power analysis\n",
    "\n",
    "We can compute a power analysis using functions from the `statsmodels.stats.power` package. Let's focus on the power for an independent samples t-test in order to determine a difference in the mean between two groups.  Let's say that we think than an effect size of Cohen's d=0.5 is realistic for the study in question (based on previous research) and would be of scientific interest.  We wish to have 80% power to find the effect if it exists.  We can compute the sample size needed for adequate power using the `TTestIndPower()` function:"
   ]
  },
  {
   "cell_type": "code",
   "execution_count": null,
   "metadata": {},
   "outputs": [],
   "source": [
    "\n",
    "import scipy.stats\n",
    "import statsmodels.stats.power as smp\n",
    "import matplotlib.pyplot as plt\n",
    "\n",
    "power_analysis = smp.TTestIndPower()\n",
    "sample_size = power_analysis.solve_power(effect_size=0.5, power=0.8, alpha=0.05)\n",
    "sample_size\n",
    "#print('Sample Size: %.3f' % sample_size)"
   ]
  },
  {
   "cell_type": "markdown",
   "metadata": {
    "lines_to_next_cell": 0
   },
   "source": [
    "Thus, about 64 participants would be needed in each group in order to test the hypothesis with adequate power.\n",
    "\n",
    "\n",
    "\n",
    "# Power curves\n",
    "\n",
    "We can also create plots that can show us how the power to find an effect varies as a function of effect size and sample size, at the alpha specified in the power analysis. We willl use the `plot_power()` function. The x-axis is defined by the 'dep_var' argument, while sample sizes (nobs) and effect sizes (effect_size) are provided in arrays. \n",
    "\n"
   ]
  },
  {
   "cell_type": "code",
   "execution_count": null,
   "metadata": {},
   "outputs": [],
   "source": [
    "\n",
    "effect_sizes = np.array([0.2, 0.5, 0.8])\n",
    "sample_sizes = np.array(range(10, 500, 10))\n",
    "\n",
    "plt.style.use('seaborn')\n",
    "fig = plt.figure()\n",
    "ax = fig.add_subplot(1, 1, 1)\n",
    "fig = power_analysis.plot_power(\n",
    "    dep_var='nobs', nobs=sample_sizes,  \n",
    "    effect_size=effect_sizes, alpha=0.05, ax=ax, \n",
    "    title='Power of Independent Samples t-test\\n$\\\\alpha = 0.05$')\n",
    "\n",
    "\n",
    "#import itertools\n",
    "#input_df=pd.DataFrame(itertools.product(sample_sizes, effect_sizes))\n",
    "#input_df"
   ]
  },
  {
   "cell_type": "markdown",
   "metadata": {
    "lines_to_next_cell": 0
   },
   "source": [
    "Using this, we can then perform a power analysis for each combination of effect size and sample size to create our power curves.  In this case, let's say that we wish to perform a two-sample t-test."
   ]
  },
  {
   "cell_type": "code",
   "execution_count": null,
   "metadata": {},
   "outputs": [],
   "source": [
    "#\n",
    "# CK: Didn't do this part, since the plot_power function above does it. In case it's better practice, I tried to do it, but got stuck with returning the power result from TTestIndPower.power. Perhaps it can be computed a different way?\n",
    "# ```{r}\n",
    "# create a function get the power value and\n",
    "# return as a tibble\n",
    "# get_power <- function(df){\n",
    "#  power_result <- pwr.t.test(n=df$sample_sizes, \n",
    "#                             d=df$effect_sizes,\n",
    "#                             type='two.sample')\n",
    "#  df$power=power_result$power\n",
    "#  return(df)\n",
    "# }\n",
    "# run get_power for each combination of effect size \n",
    "# and sample size\n",
    "# power_curves <- input_df %>%\n",
    "#  do(get_power(.)) %>%\n",
    "#  mutate(effect_sizes = as.factor(effect_sizes)) \n",
    "# ```\n",
    "#\n",
    "# Now we can plot the power curves, using a separate line for each effect size.\n",
    "#\n",
    "# ```{r fig.width=4,fig.height=4,out.width=\"50%\"}\n",
    "# ggplot(power_curves, \n",
    "#       aes(x=sample_sizes,\n",
    "#           y=power, \n",
    "#           linetype=effect_sizes)) + \n",
    "#  geom_line() + \n",
    "#  geom_hline(yintercept = 0.8, \n",
    "#             linetype='dotdash')\n",
    "# ```"
   ]
  },
  {
   "cell_type": "markdown",
   "metadata": {},
   "source": [
    "# Simulating statistical power\n",
    "\n",
    "\n",
    "Let's simulate this to see whether the power analysis actually gives the right answer.\n",
    "We will sample data for two groups, with a difference of 0.5 standard deviations between their underlying distributions, and we will look at how often we reject the null hypothesis."
   ]
  },
  {
   "cell_type": "code",
   "execution_count": null,
   "metadata": {
    "lines_to_next_cell": 2
   },
   "outputs": [],
   "source": [
    "\n",
    "num_runs = 5000\n",
    "effectSize = 0.5\n",
    "\n",
    "# perform power analysis to get sample size\n",
    "power_analysis = smp.TTestIndPower()\n",
    "sampleSize = power_analysis.solve_power(\n",
    "    effect_size=effectSize, power=0.8, alpha=0.05)\n",
    "\n",
    "# round up from estimated sample size\n",
    "sampleSize = np.int(np.ceil(sampleSize))\n",
    "\n",
    "# create a function that will generate samples and test for\n",
    "# a difference between groups using a two-sample t-test\n",
    "\n",
    "\n",
    "def get_t_result(sampleSize, effectSize):\n",
    "    \"\"\"\n",
    "    perform a ttest on random data of n=sampSize\n",
    "    \"\"\"\n",
    "    \n",
    "    group1 = np.random.normal(loc=0.0, scale=1.0, size=sampleSize)\n",
    "    group2 = np.random.normal(loc=effectSize, scale=1.0, size=sampleSize)\n",
    "    ttresult = scipy.stats.ttest_ind(group1, group2)\n",
    "    return(ttresult.pvalue)\n",
    "\n",
    "\n",
    "# create input data frame for output\n",
    "power_sim_results = pd.DataFrame({'p_value': np.zeros(num_runs)})\n",
    "\n",
    "for run in range(num_runs):\n",
    "    power_sim_results.loc[run, 'p_value'] = get_t_result(sampleSize, effectSize)\n",
    "\n",
    "\n",
    "p_reject = np.mean(power_sim_results['p_value'] < 0.05)\n",
    "p_reject"
   ]
  },
  {
   "cell_type": "markdown",
   "metadata": {},
   "source": [
    "This should return a number very close to 0.8."
   ]
  },
  {
   "cell_type": "code",
   "execution_count": null,
   "metadata": {},
   "outputs": [],
   "source": []
  }
 ],
 "metadata": {
  "jupytext": {
   "formats": "ipynb,py:percent"
  },
  "kernelspec": {
   "display_name": "Python 3",
   "language": "python",
   "name": "python3"
  }
 },
 "nbformat": 4,
 "nbformat_minor": 4
}
