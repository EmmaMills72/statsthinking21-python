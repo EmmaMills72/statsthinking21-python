{
  "cells": [
    {
      "cell_type": "markdown",
      "metadata": {
        "id": "_FaOYtAF8lp3"
      },
      "source": [
        "# Probability\n",
        "In this chapter we will go over how to perform probability computations in Python.\n",
        "\n",
        "## Basic probability calculations\n",
        "\n",
        "Let's create a vector of outcomes from one to 6, using the `np.arange()` function to create such a sequence.  This function takes the minimum and maximum values as its inputs, but note that the maximum is not included in the sequence; that is, the sequence goes up to but not including the maximum.  Thus, we would have to give 1 and 7 as the minimum and maximum in order to get a sequence of numbers from 1 to 6:"
      ]
    },
    {
      "cell_type": "code",
      "execution_count": null,
      "metadata": {
        "id": "prt56R7U8lp5"
      },
      "outputs": [],
      "source": [
        "import numpy as np\n",
        "outcomes = np.arange(1, 7)\n",
        "print(outcomes)"
      ]
    },
    {
      "cell_type": "markdown",
      "metadata": {
        "id": "KNWTWGLL8lp5"
      },
      "source": [
        "Now let's create a vector of logical values based on whether the outcome in each position is equal to 1. Remember that `==` tests for equality of each element in a vector:"
      ]
    },
    {
      "cell_type": "code",
      "execution_count": null,
      "metadata": {
        "id": "vDryGcal8lp5"
      },
      "outputs": [],
      "source": [
        "outcome1isTrue = outcomes == 1\n",
        "print(outcome1isTrue)"
      ]
    },
    {
      "cell_type": "markdown",
      "metadata": {
        "id": "M3B1-MPD8lp6"
      },
      "source": [
        "Remember that the simple probability of an outcome is number of occurrences of the outcome divided by the total number of events.  To compute a probability, we can take advantage of the fact that TRUE/FALSE are equivalent to 1/0 in Python.  The formula for the mean (sum of values divided by the number of values) is thus exactly the same as the formula for the simple probability!  So, we can compute the probability of the event by simply taking the mean of the logical vector."
      ]
    },
    {
      "cell_type": "code",
      "execution_count": null,
      "metadata": {
        "id": "u3_F8OpQ8lp6"
      },
      "outputs": [],
      "source": [
        "p1isTrue = np.mean(outcome1isTrue)\n",
        "print(p1isTrue)"
      ]
    },
    {
      "cell_type": "markdown",
      "metadata": {
        "id": "lAZCaTvd8lp6"
      },
      "source": [
        "## Empirical frequency\n",
        "Let's walk through how [we computed empirical frequency of rain in San Francisco](https://statsthinking21.github.io/statsthinking21-core-site/probability.html#empirical-frequency).\n",
        "\n",
        "First we load the data:"
      ]
    },
    {
      "cell_type": "code",
      "execution_count": null,
      "metadata": {
        "id": "Jsi4szsT8lp6"
      },
      "outputs": [],
      "source": [
        "#+\n",
        "import pandas as pd\n",
        "SFrain = pd.read_csv('https://raw.githubusercontent.com/statsthinking21/statsthinking21-python/master/notebooks/data/SanFranciscoRain.csv')\n",
        "\n",
        "# we will remove the STATION and NAME variables\n",
        "# since they are identical for all rows\n",
        "\n",
        "SFrain = SFrain.drop(columns=['STATION', 'NAME'])\n",
        "print(SFrain)\n",
        "#-"
      ]
    },
    {
      "cell_type": "markdown",
      "metadata": {
        "id": "_MlEaKt38lp6"
      },
      "source": [
        "We see that the data frame contains a variable called `PRCP` which denotes the amount of rain each day. Let's create a new variable called `rainToday` that denotes whether the amount of precipitation was above zero:"
      ]
    },
    {
      "cell_type": "code",
      "execution_count": null,
      "metadata": {
        "id": "-RzbJtFp8lp6"
      },
      "outputs": [],
      "source": [
        "SFrain['rainToday'] = SFrain['PRCP'] > 0\n",
        "print(SFrain)"
      ]
    },
    {
      "cell_type": "markdown",
      "metadata": {
        "id": "xX9JA59D8lp6"
      },
      "source": [
        "Now we will summarize the data to compute the probability of rain:"
      ]
    },
    {
      "cell_type": "code",
      "execution_count": null,
      "metadata": {
        "id": "z0nMoJCU8lp7"
      },
      "outputs": [],
      "source": [
        "pRainInSF = SFrain['rainToday'].mean()\n",
        "print(pRainInSF)"
      ]
    },
    {
      "cell_type": "markdown",
      "metadata": {
        "id": "XIrFx09f8lp7"
      },
      "source": [
        "## Conditional probability\n",
        "Let's determine the conditional probability of someone having hearing problems, given that they are over 70 years of age, using the NHANES dataset.  First, let's create a new variable called `Over70` that denotes whether each individual is over 70 or not."
      ]
    },
    {
      "cell_type": "code",
      "execution_count": null,
      "metadata": {
        "id": "nScHP-x28lp7"
      },
      "outputs": [],
      "source": [
        "! pip install nhanes\n",
        "from nhanes.load import load_NHANES_data\n",
        "nhanes_data = load_NHANES_data()\n",
        "\n",
        "nhanes_data['Over70'] = nhanes_data['AgeInYearsAtScreening'] > 70"
      ]
    },
    {
      "cell_type": "markdown",
      "metadata": {
        "id": "jSFI9IYJ8lp7"
      },
      "source": [
        "Now let's create a cleaned-up dataset that only includes the over70 variable along with the variable called `HaveSeriousDifficultyHearing` that denotes whether a person reports having serious hearing difficulty (coded as 1 for \"yes\" and 0 for \"no\")."
      ]
    },
    {
      "cell_type": "code",
      "execution_count": null,
      "metadata": {
        "id": "k_qa4BMJ8lp7"
      },
      "outputs": [],
      "source": [
        "hearing_data = nhanes_data[['Over70', 'HaveSeriousDifficultyHearing']].dropna()\n",
        "print(hearing_data)"
      ]
    },
    {
      "cell_type": "markdown",
      "metadata": {
        "id": "9_RsFSm68lp7"
      },
      "source": [
        "First, what's the probability of being over 70?"
      ]
    },
    {
      "cell_type": "code",
      "execution_count": null,
      "metadata": {
        "id": "Db3h91eL8lp7"
      },
      "outputs": [],
      "source": [
        "p_over_70 = hearing_data['Over70'].mean()\n",
        "print(p_over_70)"
      ]
    },
    {
      "cell_type": "markdown",
      "metadata": {
        "id": "gTGdXcnZ8lp7"
      },
      "source": [
        "Second, what's the probability of having hearing problems?"
      ]
    },
    {
      "cell_type": "code",
      "execution_count": null,
      "metadata": {
        "id": "bHwHewwI8lp7"
      },
      "outputs": [],
      "source": [
        "p_hearing_problem = hearing_data['HaveSeriousDifficultyHearing'].mean()\n",
        "print(p_hearing_problem)"
      ]
    },
    {
      "cell_type": "markdown",
      "metadata": {
        "id": "d6uHpfiB8lp8"
      },
      "source": [
        "What's the probability for each combination of hearing problems/no problems and over 70/ not? We can create a table that finds the joint probability for each combination, using the `pd.crosstab()` function:"
      ]
    },
    {
      "cell_type": "code",
      "execution_count": null,
      "metadata": {
        "lines_to_next_cell": 2,
        "id": "CZsdLo-V8lp8"
      },
      "outputs": [],
      "source": [
        "joint_table = pd.crosstab(hearing_data['Over70'], hearing_data['HaveSeriousDifficultyHearing'], normalize=True)\n",
        "print(joint_table)"
      ]
    },
    {
      "cell_type": "markdown",
      "metadata": {
        "id": "Pa8eEh0L8lp8"
      },
      "source": [
        "Finally, what's the probability of someone having hearing problems, given that they are over 70 years of age?  To do this, we limit the computation of the probability of having hearing problems to only include those people who are over 70:"
      ]
    },
    {
      "cell_type": "code",
      "execution_count": null,
      "metadata": {
        "id": "1KMwvBok8lp8"
      },
      "outputs": [],
      "source": [
        "p_hearingproblem_given_over_70 = hearing_data.query('Over70 == True')['HaveSeriousDifficultyHearing'].mean()\n",
        "print(p_hearingproblem_given_over_70)"
      ]
    },
    {
      "cell_type": "markdown",
      "metadata": {
        "id": "lCAN0XG38lp8"
      },
      "source": [
        "Now compute the opposite: What is the probability of being over 70 given that one has a hearing problem?"
      ]
    },
    {
      "cell_type": "code",
      "execution_count": null,
      "metadata": {
        "id": "8y6YdAqQ8lp9"
      },
      "outputs": [],
      "source": [
        "p_over_70_given_hearingproblem = hearing_data.query('HaveSeriousDifficultyHearing == True')['Over70'].mean()\n",
        "print(p_over_70_given_hearingproblem)"
      ]
    }
  ],
  "metadata": {
    "jupytext": {
      "formats": "ipynb,py:percent"
    },
    "kernelspec": {
      "display_name": "Python 3",
      "language": "python",
      "name": "python3"
    },
    "colab": {
      "provenance": []
    }
  },
  "nbformat": 4,
  "nbformat_minor": 0
}